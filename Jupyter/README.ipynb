{
 "cells": [
  {
   "cell_type": "markdown",
   "metadata": {},
   "source": [
    "# [MaD] Notebook スタイルガイド"
   ]
  },
  {
   "cell_type": "markdown",
   "metadata": {},
   "source": [
    "## Knitr 用のラベル付けルール\n",
    "\n",
    "\n",
    "講義資料の開発には次のように進める。\n",
    "\n",
    "- Jupyter Notebook で挿入用のコードを章ごとに作成する。\n",
    "- nbconvert で Jupyter Notebook を Python スクリプトに変換する。\n",
    "- knitr の [code externalization](https://yihui.org/knitr/demo/externalization/) でコードを挿入する。\n",
    "\n",
    "\n",
    "### 基礎知識\n",
    "\n",
    "Knitr は，外部ファイルのコードセクションにラベル付けを行うと，セクション単位のインポートができる。次のような形式を用いる。 `#----` に続くテキストがコードインポート時のキーになる。"
   ]
  },
  {
   "cell_type": "raw",
   "metadata": {},
   "source": [
    "## chXX.py\n",
    "\n",
    "#---- ref-label-1\n",
    "print('some code')\n",
    "\n",
    "#---- ref-label-2\n",
    "print('not shown')"
   ]
  },
  {
   "cell_type": "markdown",
   "metadata": {},
   "source": [
    "LyX ファイルに以下の TeX Code を挿入すると，`print('come code')` とその結果が出力文書に挿入される。"
   ]
  },
  {
   "cell_type": "raw",
   "metadata": {},
   "source": [
    "## chXX.lyx / chXX.Rnw\n",
    "\n",
    "<<engine='R', echo=FALSE>>=\n",
    "knitr::read_chunk('code.py')\n",
    "@\n",
    "\n",
    "<<ref-label-1>>=\n",
    "@"
   ]
  },
  {
   "cell_type": "markdown",
   "metadata": {},
   "source": [
    "なお，この講義ノートでは主に Python コードを紹介するので，グローバルに `engine='python'` と設定している。そのため，`engine='R'` を明示的に書いている。"
   ]
  },
  {
   "cell_type": "markdown",
   "metadata": {},
   "source": [
    "### ローカルルール\n",
    "\n",
    "前述の通り，章ごとに Python スクリプトが生成されている。対応関係は次の通り。\n",
    "\n",
    "- Jupyter/ch01.ipynb → Lecture Note/Python/ch01.py → Lecture Note/ch01.lyx\n",
    "- Jupyter/ch02.ipynb → Lecture Note/Python/ch02.py ↔ Lecture Note/ch02.lyx\n",
    "- etc.\n",
    "\n",
    "各 chXX.py （つまるところ，生成元となる chXX.ipynb）には次の形式で**チャンクラベルの原型**を付与している。"
   ]
  },
  {
   "cell_type": "raw",
   "metadata": {},
   "source": [
    "#---- chXX/description/option"
   ]
  },
  {
   "cell_type": "markdown",
   "metadata": {},
   "source": [
    "例えば，次のようにする。`dnr` は \"do not run\" の略である。"
   ]
  },
  {
   "cell_type": "raw",
   "metadata": {},
   "source": [
    "#---- ch02/numpy-example-code/dnr"
   ]
  },
  {
   "cell_type": "markdown",
   "metadata": {},
   "source": [
    "最後の部分を使って，適切な Knitr のチャンクオプションが自動的にセットされるようにする。これは，Jupyter Notebook での開発時の意図と，挿入時のオプション設定に矛盾が生じないようにするための措置である。\n",
    "\n",
    "\n",
    "| option | チャンクオプション | コード表示 | コード実行 | 結果表示 | その他 |\n",
    "|----------------|----------------------------------|------------|------------|----------|-------------------------------|\n",
    "| dnr | `eval=FALSE` | Default | Default | Default |  |\n",
    "| noinc | `include=FALSE` | × | ○ | × |  |\n",
    "| graphics | `include=FALSE, fig.show='hide'` | × | ○ | × | `\\includegraphics` で図を表示 |\n",
    "| plot     | `fig.show='hide'`  | ○ | ○ | × | `\\includegraphics` で図を表示 |\n"
   ]
  },
  {
   "cell_type": "markdown",
   "metadata": {},
   "source": [
    "チャンクのラベルの実体は「原型」の最後の部分（option）を外したものとなる。したがって，\n",
    "\n",
    "- 相互参照にチャンクラベルを用いる場合は，`chXX/description` などを使う。\n",
    "- 画像ファイルは `chXX/description-1.pdf` などとなる。結果的に画像ファイルは章ごとにフォルダ分けされる。\n",
    "\n"
   ]
  },
  {
   "cell_type": "code",
   "execution_count": null,
   "metadata": {},
   "outputs": [],
   "source": []
  }
 ],
 "metadata": {
  "kernelspec": {
   "display_name": "Python 3",
   "language": "python",
   "name": "python3"
  },
  "language_info": {
   "codemirror_mode": {
    "name": "ipython",
    "version": 3
   },
   "file_extension": ".py",
   "mimetype": "text/x-python",
   "name": "python",
   "nbconvert_exporter": "python",
   "pygments_lexer": "ipython3",
   "version": "3.7.7"
  }
 },
 "nbformat": 4,
 "nbformat_minor": 4
}
