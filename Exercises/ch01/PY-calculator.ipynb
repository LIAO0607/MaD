{
 "cells": [
  {
   "cell_type": "markdown",
   "metadata": {},
   "source": [
    "### 次をPythonのコードで計算せよ"
   ]
  },
  {
   "cell_type": "markdown",
   "metadata": {},
   "source": [
    "$ (8 + 5) \\div 8 $"
   ]
  },
  {
   "cell_type": "code",
   "execution_count": 33,
   "metadata": {},
   "outputs": [
    {
     "data": {
      "text/plain": [
       "1.625"
      ]
     },
     "execution_count": 33,
     "metadata": {},
     "output_type": "execute_result"
    }
   ],
   "source": [
    "(8 + 5 ) / 8"
   ]
  },
  {
   "cell_type": "markdown",
   "metadata": {},
   "source": [
    "$ 20210723 \\bmod 365 $"
   ]
  },
  {
   "cell_type": "code",
   "execution_count": 34,
   "metadata": {},
   "outputs": [
    {
     "data": {
      "text/plain": [
       "308"
      ]
     },
     "execution_count": 34,
     "metadata": {},
     "output_type": "execute_result"
    }
   ],
   "source": [
    "20210723 % 365"
   ]
  },
  {
   "cell_type": "markdown",
   "metadata": {},
   "source": [
    "$ 2^8 $"
   ]
  },
  {
   "cell_type": "code",
   "execution_count": 22,
   "metadata": {},
   "outputs": [
    {
     "data": {
      "text/plain": [
       "256"
      ]
     },
     "execution_count": 22,
     "metadata": {},
     "output_type": "execute_result"
    }
   ],
   "source": [
    "2**8"
   ]
  },
  {
   "cell_type": "markdown",
   "metadata": {},
   "source": [
    "### 次の式の真偽値を確かめよ"
   ]
  },
  {
   "cell_type": "markdown",
   "metadata": {},
   "source": [
    "$ \\frac{12.3}{45.6} == \\frac{1.23}{4.56} $"
   ]
  },
  {
   "cell_type": "code",
   "execution_count": 28,
   "metadata": {},
   "outputs": [
    {
     "data": {
      "text/plain": [
       "True"
      ]
     },
     "execution_count": 28,
     "metadata": {},
     "output_type": "execute_result"
    }
   ],
   "source": [
    "12.3/45.6 == 1.23/4.56"
   ]
  },
  {
   "cell_type": "markdown",
   "metadata": {},
   "source": [
    "$ \\frac{10.1}{30.1} == \\frac{1.01}{3.01} $"
   ]
  },
  {
   "cell_type": "code",
   "execution_count": 29,
   "metadata": {},
   "outputs": [
    {
     "data": {
      "text/plain": [
       "False"
      ]
     },
     "execution_count": 29,
     "metadata": {},
     "output_type": "execute_result"
    }
   ],
   "source": [
    "10.1/30.1 == 1.01/3.01"
   ]
  },
  {
   "cell_type": "markdown",
   "metadata": {},
   "source": [
    "### 次の操作をせよ\n",
    "この問題を通して、関数そのものが値として取り扱うことができること（第一級オブジェクトという）を学ぶ。"
   ]
  },
  {
   "cell_type": "markdown",
   "metadata": {},
   "source": [
    "コンソールに`print`と入力し値を確認せよ。  \n",
    "例\n",
    "```python\n",
    ">>> print\n",
    "```"
   ]
  },
  {
   "cell_type": "code",
   "execution_count": 39,
   "metadata": {},
   "outputs": [
    {
     "data": {
      "text/plain": [
       "<function print>"
      ]
     },
     "execution_count": 39,
     "metadata": {},
     "output_type": "execute_result"
    }
   ],
   "source": [
    "print"
   ]
  },
  {
   "cell_type": "markdown",
   "metadata": {},
   "source": [
    "`print`関数を別名`stdout`で呼び出せるようにし、`stdout`を用いて文字列`\"Standard Output.\"`を出力せよ。  \n",
    "例\n",
    "```python\n",
    ">>> stdout = print\n",
    "```"
   ]
  },
  {
   "cell_type": "code",
   "execution_count": 51,
   "metadata": {},
   "outputs": [
    {
     "name": "stdout",
     "output_type": "stream",
     "text": [
      "Standard Output.\n"
     ]
    }
   ],
   "source": [
    "stdout = print\n",
    "stdout(\"Standard Output.\")"
   ]
  },
  {
   "cell_type": "markdown",
   "metadata": {},
   "source": [
    "引数を3倍する関数`mul3(num)`を作成し、コンソールに`mul3`と入力せよ。  \n",
    "尚、関数の定義は次のように行う。  \n",
    "例\n",
    "```python\n",
    ">>> def mul3(num):\n",
    "    return num*3\n",
    "```"
   ]
  },
  {
   "cell_type": "code",
   "execution_count": 56,
   "metadata": {},
   "outputs": [
    {
     "data": {
      "text/plain": [
       "<function __main__.mul3(num)>"
      ]
     },
     "execution_count": 56,
     "metadata": {},
     "output_type": "execute_result"
    }
   ],
   "source": [
    "def mul3(num):\n",
    "    return num*3\n",
    "\n",
    "mul3"
   ]
  },
  {
   "cell_type": "markdown",
   "metadata": {},
   "source": [
    "関数の名前`mul3`には値があることが確認された。  \n",
    "最後に`mul3`の値の型を見てみよう。`function`オブジェクトであることが確認できるはずである。\n",
    "```python\n",
    ">>> type(mul3)\n",
    "```"
   ]
  },
  {
   "cell_type": "code",
   "execution_count": 61,
   "metadata": {},
   "outputs": [
    {
     "data": {
      "text/plain": [
       "function"
      ]
     },
     "execution_count": 61,
     "metadata": {},
     "output_type": "execute_result"
    }
   ],
   "source": [
    "type(mul3)"
   ]
  },
  {
   "cell_type": "markdown",
   "metadata": {},
   "source": [
    "### 発展的な話題（無名関数、高階関数）\n",
    "`7-3`, `True`, `\"Hello\"`, `print`, `mul3(10)`のように、何らかの値を持つ記号を**式**という。  \n",
    "単一の式のみで表現できる関数を作るとき、`lambda`という記法が便利である。`lambda`を用いて作った関数も`print`,`mul3`同様に値である。  \n",
    "例\n",
    "```python\n",
    ">>> lambda num: mul3(num) - num\n",
    "```\n",
    "ここで作成した関数には、呼び出すための名前が無い。このような関数（オブジェクト）を**無名関数**という。  \n",
    "`lambda`を用いて関数を作成し、`call`という名前に代入せよ。  \n",
    "ただし、`call(mul3, 10)`は`30`を出力しなければならない。  \n",
    "例\n",
    "```python\n",
    ">>> call = lambda f, n: f(n)\n",
    "```\n",
    "このように関数を引数に取る関数を高階関数という。"
   ]
  },
  {
   "cell_type": "code",
   "execution_count": 60,
   "metadata": {},
   "outputs": [
    {
     "data": {
      "text/plain": [
       "30"
      ]
     },
     "execution_count": 60,
     "metadata": {},
     "output_type": "execute_result"
    }
   ],
   "source": [
    "call = lambda f, n: f(n)\n",
    "call(mul3, 10)"
   ]
  },
  {
   "cell_type": "code",
   "execution_count": null,
   "metadata": {},
   "outputs": [],
   "source": []
  }
 ],
 "metadata": {
  "kernelspec": {
   "display_name": "Python 3",
   "language": "python",
   "name": "python3"
  },
  "language_info": {
   "codemirror_mode": {
    "name": "ipython",
    "version": 3
   },
   "file_extension": ".py",
   "mimetype": "text/x-python",
   "name": "python",
   "nbconvert_exporter": "python",
   "pygments_lexer": "ipython3",
   "version": "3.7.3"
  }
 },
 "nbformat": 4,
 "nbformat_minor": 2
}
